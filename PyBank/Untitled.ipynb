{
 "cells": [
  {
   "cell_type": "code",
   "execution_count": 91,
   "id": "ac2ba196-572b-454c-a1d9-6774e8126296",
   "metadata": {},
   "outputs": [],
   "source": [
    "import csv\n",
    "import os\n",
    "import pandas as pd"
   ]
  },
  {
   "cell_type": "code",
   "execution_count": 93,
   "id": "55a96311-1c25-43ef-a55b-3e64d97bb2e8",
   "metadata": {},
   "outputs": [],
   "source": [
    "# Files to load and output (update with correct file paths)\n",
    "file_to_load = os.path.join(\"Resources\", \"budget_data.csv\")  # Input file path\n",
    "file_to_output = os.path.join(\"analysis\", \"budget_analysis.txt\")  # Output file path"
   ]
  },
  {
   "cell_type": "code",
   "execution_count": 95,
   "id": "e87955c2-e64d-454c-bcaf-36c3cceb43ef",
   "metadata": {},
   "outputs": [],
   "source": [
    "# Define variables to track the financial data\n",
    "totalMonths = 0\n",
    "netTotal = 0\n",
    "# Add more variables to track other necessary financial data\n",
    "averageChange = 0 \n",
    "greatestIncrease = [\" \" , 0]\n",
    "greatestDecrease = [\" \" , 0]"
   ]
  },
  {
   "cell_type": "code",
   "execution_count": 97,
   "id": "97bac257-4842-45bd-9c97-14369d06bcaf",
   "metadata": {},
   "outputs": [],
   "source": [
    "# Make a reference to the comic_books_expanded.csv file path\n",
    "#csv_path = \"/Users/zay/Desktop/Boot Camp/Module 3/python-challenge/PyBank/Resources\"\n",
    "# Import the comic_books_expanded.csv file as a DataFrame\n",
    "#budgetData_df = pd.read_csv(file_to_load, encoding=\"utf-8\")"
   ]
  },
  {
   "cell_type": "code",
   "execution_count": 143,
   "id": "1516feb4-ea97-4a79-b777-2020ee0a7dca",
   "metadata": {},
   "outputs": [
    {
     "ename": "TypeError",
     "evalue": "'DataFrame' object is not an iterator",
     "output_type": "error",
     "traceback": [
      "\u001b[0;31m---------------------------------------------------------------------------\u001b[0m",
      "\u001b[0;31mTypeError\u001b[0m                                 Traceback (most recent call last)",
      "Cell \u001b[0;32mIn[143], line 7\u001b[0m\n\u001b[1;32m      4\u001b[0m reader \u001b[38;5;241m=\u001b[39m pd\u001b[38;5;241m.\u001b[39mread_csv(financial_data, encoding\u001b[38;5;241m=\u001b[39m\u001b[38;5;124m\"\u001b[39m\u001b[38;5;124mutf-8\u001b[39m\u001b[38;5;124m\"\u001b[39m)\n\u001b[1;32m      6\u001b[0m \u001b[38;5;66;03m# Skip the header row\u001b[39;00m\n\u001b[0;32m----> 7\u001b[0m header \u001b[38;5;241m=\u001b[39m \u001b[38;5;28mnext\u001b[39m(reader)\n\u001b[1;32m      8\u001b[0m \u001b[38;5;66;03m# Extract first row to avoid appending to net_change_list\u001b[39;00m\n\u001b[1;32m      9\u001b[0m df \u001b[38;5;241m=\u001b[39m pd\u001b[38;5;241m.\u001b[39mDataFrame(reader)\n",
      "\u001b[0;31mTypeError\u001b[0m: 'DataFrame' object is not an iterator"
     ]
    }
   ],
   "source": [
    "# Open and read the csv\n",
    "with open(file_to_load) as financial_data:\n",
    "    #reader = csv.reader(financial_data, delimiter = \",\")\n",
    "    reader = pd.read_csv(financial_data, encoding=\"utf-8\")\n",
    "\n",
    "    # Skip the header row\n",
    "    header = next(reader)\n",
    "    # Extract first row to avoid appending to net_change_list\n",
    "    df = pd.DataFrame(reader)\n",
    "    change = df['Profit/Losses'].diff()\n",
    "    averageChange =  change.mean()\n",
    "\n",
    "    # Track the total and net change\n",
    "\n",
    "    print(header)\n",
    "    # Process each row of data\\\n",
    "    i = 1\n",
    "    for row in reader:\n",
    "        print(row[i])\n",
    "        \n",
    "        # Track the total\n",
    "        totalMonths += 1\n",
    "        netTotal += int(row[1])\n",
    "        \n",
    "        # Track the net change\n",
    "        averageChange\n",
    "\n",
    "        # Calculate the greatest increase in profits (month and amount)\n",
    "        if int(row[1]) > int(greatestIncrease[1]):\n",
    "            greatestIncrease = row\n",
    "\n",
    "        # Calculate the greatest decrease in losses (month and amount)\n",
    "        if int(row[1]) < int(greatestDecrease[1]):\n",
    "            greatestDecrease = row\n",
    "        i += 1"
   ]
  },
  {
   "cell_type": "code",
   "execution_count": 127,
   "id": "3a9b9d4e-d753-4aa1-a491-1f5541de8103",
   "metadata": {},
   "outputs": [
    {
     "name": "stdout",
     "output_type": "stream",
     "text": [
      "Financial Analysis\n",
      "----------------------------\n",
      "Total Months: 172\n",
      "Total: $45128396\n",
      "Average Change: $0\n",
      "Greatest Increase in Profits: Mar-13($1141840)\n",
      "Greatest Decrease in Profits: Dec-10($-1194133)\n"
     ]
    }
   ],
   "source": [
    "# Print the output\n",
    "print(\"Financial Analysis\")\n",
    "print(\"----------------------------\")\n",
    "print(\"Total Months: \" + str(totalMonths))\n",
    "print(\"Total: $\" + str(netTotal))\n",
    "print(\"Average Change: $\" + str(averageChange))\n",
    "print(\"Greatest Increase in Profits: \" + greatestIncrease[0] + \"($\" + greatestIncrease[1] + \")\")\n",
    "print(\"Greatest Decrease in Profits: \" + greatestDecrease[0] + \"($\" + greatestDecrease[1] + \")\")"
   ]
  },
  {
   "cell_type": "code",
   "execution_count": null,
   "id": "f84ed2a1-45e3-4852-a653-17ea75cd02b4",
   "metadata": {},
   "outputs": [],
   "source": []
  }
 ],
 "metadata": {
  "kernelspec": {
   "display_name": "Python 3 (ipykernel)",
   "language": "python",
   "name": "python3"
  },
  "language_info": {
   "codemirror_mode": {
    "name": "ipython",
    "version": 3
   },
   "file_extension": ".py",
   "mimetype": "text/x-python",
   "name": "python",
   "nbconvert_exporter": "python",
   "pygments_lexer": "ipython3",
   "version": "3.12.4"
  }
 },
 "nbformat": 4,
 "nbformat_minor": 5
}
